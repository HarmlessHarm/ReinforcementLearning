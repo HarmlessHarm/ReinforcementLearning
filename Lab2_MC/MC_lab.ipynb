{
 "cells": [
  {
   "cell_type": "markdown",
   "metadata": {},
   "source": [
    "# Reinforcement Learning - Monte Carlo\n",
    "If you want to test/submit your solution **restart the kernel, run all cells and submit the mc_autograde.py file into codegrade.**"
   ]
  },
  {
   "cell_type": "code",
   "execution_count": 1,
   "metadata": {},
   "outputs": [],
   "source": [
    "# This cell imports %%execwritefile command (executes cell and writes it into file). \n",
    "# All cells that start with %%execwritefile should be in mc_autograde.py file after running all cells.\n",
    "from custommagics import CustomMagics\n",
    "get_ipython().register_magics(CustomMagics)"
   ]
  },
  {
   "cell_type": "code",
   "execution_count": 2,
   "metadata": {},
   "outputs": [
    {
     "name": "stdout",
     "output_type": "stream",
     "text": [
      "Overwriting mc_autograde.py\n"
     ]
    }
   ],
   "source": [
    "%%execwritefile mc_autograde.py\n",
    "import numpy as np\n",
    "from collections import defaultdict\n",
    "from tqdm import tqdm as _tqdm\n",
    "\n",
    "def tqdm(*args, **kwargs):\n",
    "    return _tqdm(*args, **kwargs, mininterval=1)  # Safety, do not overflow buffer"
   ]
  },
  {
   "cell_type": "code",
   "execution_count": 3,
   "metadata": {},
   "outputs": [],
   "source": [
    "import matplotlib.pyplot as plt\n",
    "import sys\n",
    "\n",
    "\n",
    "%matplotlib inline\n",
    "\n",
    "assert sys.version_info[:3] >= (3, 6, 0), \"Make sure you have Python 3.6 installed!\""
   ]
  },
  {
   "cell_type": "markdown",
   "metadata": {
    "nbgrader": {
     "grade": false,
     "grade_id": "cell-7ab207a9f93cf4d3",
     "locked": true,
     "schema_version": 1,
     "solution": false
    }
   },
   "source": [
    "## 1. Monte Carlo Prediction"
   ]
  },
  {
   "cell_type": "markdown",
   "metadata": {
    "nbgrader": {
     "grade": false,
     "grade_id": "cell-5f0c1d608436b67b",
     "locked": true,
     "schema_version": 1,
     "solution": false
    }
   },
   "source": [
    "For the Monte Carlo Prediction we will look at the Blackjack game (Example 5.1 from the book), for which the `BlackjackEnv` is implemented in `blackjack.py`. Note that compared to the gridworld, the state is no longer a single integer, which is why we use a dictionary to represent the value function instead of a numpy array. By using `defaultdict`, each state gets a default value of 0."
   ]
  },
  {
   "cell_type": "code",
   "execution_count": 4,
   "metadata": {
    "nbgrader": {
     "grade": false,
     "grade_id": "cell-a342b69fcfdea5b2",
     "locked": true,
     "schema_version": 1,
     "solution": false
    }
   },
   "outputs": [],
   "source": [
    "from blackjack import BlackjackEnv\n",
    "env = BlackjackEnv()"
   ]
  },
  {
   "cell_type": "markdown",
   "metadata": {},
   "source": [
    "For the Monte Carlo algorithm, we no longer have transition probabilities and we need to *interact* with the environment. This means that we start an episode by using `env.reset` and send the environment actions via `env.step` to observe the reward and next observation (state)."
   ]
  },
  {
   "cell_type": "code",
   "execution_count": 5,
   "metadata": {
    "nbgrader": {
     "grade": false,
     "grade_id": "cell-85356add2643980e",
     "locked": true,
     "schema_version": 1,
     "solution": false
    }
   },
   "outputs": [],
   "source": [
    "# So let's have a look at what we can do in general with an environment...\n",
    "import gym\n",
    "# ?gym.Env"
   ]
  },
  {
   "cell_type": "code",
   "execution_count": 6,
   "metadata": {
    "nbgrader": {
     "grade": false,
     "grade_id": "cell-251b7b17c5d08a24",
     "locked": true,
     "schema_version": 1,
     "solution": false
    }
   },
   "outputs": [],
   "source": [
    "# We can also look at the documentation/implementation of a method\n",
    "# ?env.step"
   ]
  },
  {
   "cell_type": "code",
   "execution_count": 7,
   "metadata": {
    "nbgrader": {
     "grade": false,
     "grade_id": "cell-6decb2ab83c5bcec",
     "locked": true,
     "schema_version": 1,
     "solution": false
    }
   },
   "outputs": [],
   "source": [
    "# ??BlackjackEnv"
   ]
  },
  {
   "cell_type": "markdown",
   "metadata": {
    "nbgrader": {
     "grade": false,
     "grade_id": "cell-ae161126d3cb1b7b",
     "locked": true,
     "schema_version": 1,
     "solution": false
    }
   },
   "source": [
    "A very simple policy for Blackjack is to *stick* if we have 20 or 21 points and *hit* otherwise. We want to know how good this policy is. This policy is *deterministic* and therefore a function that maps an observation to a single action. Technically, we can implement this as a dictionary , a function or a class with a function, where we use the last option. Moreover, it is often useful (as you will see later) to implement a function that returns  the probability $\\pi(a|s)$ for the state action pair (the probability that this policy would perform certain action in given state). We group these two functions in a policy class. To get started, let's implement this simple policy for BlackJack."
   ]
  },
  {
   "cell_type": "code",
   "execution_count": 8,
   "metadata": {
    "nbgrader": {
     "grade": false,
     "grade_id": "cell-9fdcb503df9cdb08",
     "locked": false,
     "schema_version": 1,
     "solution": true
    }
   },
   "outputs": [
    {
     "name": "stdout",
     "output_type": "stream",
     "text": [
      "Appending to mc_autograde.py\n"
     ]
    }
   ],
   "source": [
    "%%execwritefile -a mc_autograde.py\n",
    "\n",
    "class SimpleBlackjackPolicy(object):\n",
    "    \"\"\"\n",
    "    A simple BlackJack policy that sticks with 20 or 21 points and hits otherwise.\n",
    "    \"\"\"\n",
    "    def get_probs(self, states, actions):\n",
    "        \"\"\"\n",
    "        This method takes a list of states and a list of actions and returns a numpy array that contains a probability\n",
    "        of perfoming action in given state for every corresponding state action pair. \n",
    "\n",
    "        Args:\n",
    "            states: a list of states.\n",
    "            actions: a list of actions.\n",
    "\n",
    "        Returns:\n",
    "            Numpy array filled with probabilities (same length as states and actions)\n",
    "        \"\"\"\n",
    "        probs = list()\n",
    "        \n",
    "        for i in range(len(states)):\n",
    "            if states[i][0] in (20, 21):\n",
    "                probs.append(not actions[i])\n",
    "            else:\n",
    "                probs.append(actions[i])\n",
    "        \n",
    "        return np.array(probs, dtype=int)\n",
    "    \n",
    "    def sample_action(self, state):\n",
    "        \"\"\"\n",
    "        This method takes a state as input and returns an action sampled from this policy.  \n",
    "\n",
    "        Args:\n",
    "            state: current state\n",
    "\n",
    "        Returns:\n",
    "            An action (int).\n",
    "        \"\"\"\n",
    "        probs = self.get_probs([state, state], [0, 1])\n",
    "        return np.argmax(probs)\n"
   ]
  },
  {
   "cell_type": "code",
   "execution_count": 9,
   "metadata": {
    "nbgrader": {
     "grade": true,
     "grade_id": "cell-99f02e2d9b338a5b",
     "locked": true,
     "points": 1,
     "schema_version": 1,
     "solution": false
    }
   },
   "outputs": [
    {
     "name": "stdout",
     "output_type": "stream",
     "text": [
      "State: (20, 8, False)\n",
      "Sampled Action: 0\n",
      "Probabilities [stick, hit]: [1 0]\n"
     ]
    }
   ],
   "source": [
    "# Let's check if it makes sense\n",
    "env = BlackjackEnv()\n",
    "s = env.reset()\n",
    "policy = SimpleBlackjackPolicy()\n",
    "print(\"State: {}\\nSampled Action: {}\\nProbabilities [stick, hit]: {}\".format(s, policy.sample_action(s), policy.get_probs([s,s],[0,1])))"
   ]
  },
  {
   "cell_type": "markdown",
   "metadata": {},
   "source": [
    "Since there are multiple algorithms which require data from single episode (or multiple episodes) it is often useful to write a routine that will sample a single episode. This will save us some time later. Implement a *sample_episode* function which uses environment and policy to sample a single episode."
   ]
  },
  {
   "cell_type": "code",
   "execution_count": 10,
   "metadata": {},
   "outputs": [
    {
     "name": "stdout",
     "output_type": "stream",
     "text": [
      "Appending to mc_autograde.py\n"
     ]
    }
   ],
   "source": [
    "%%execwritefile -a mc_autograde.py\n",
    "\n",
    "def sample_episode(env, policy):\n",
    "    \"\"\"\n",
    "    A sampling routine. Given environment and a policy samples one episode and returns states, actions, rewards\n",
    "    and dones from environment's step function and policy's sample_action function as lists.\n",
    "\n",
    "    Args:\n",
    "        env: OpenAI gym environment.\n",
    "        policy: A policy which allows us to sample actions with its sample_action method.\n",
    "\n",
    "    Returns:\n",
    "        Tuple of lists (states, actions, rewards, dones). All lists should have same length. \n",
    "        Hint: Do not include the state after the termination in the list of states.\n",
    "    \"\"\"\n",
    "    states = []\n",
    "    actions = []\n",
    "    rewards = []\n",
    "    dones = []\n",
    "    \n",
    "    s = env.reset()\n",
    "    while(True not in dones):\n",
    "        states.append(s)\n",
    "        \n",
    "        a = policy.sample_action(s)\n",
    "        s, r, d, _ = env.step(a)\n",
    "        \n",
    "        actions.append(a)\n",
    "        rewards.append(r)\n",
    "        dones.append(d)\n",
    "    \n",
    "    return states, actions, rewards, dones"
   ]
  },
  {
   "cell_type": "code",
   "execution_count": 11,
   "metadata": {},
   "outputs": [],
   "source": [
    "def custom_sample(env, policy):\n",
    "    \"\"\"\n",
    "    A sampling routine. Given environment and a policy samples one episode and returns states, actions, rewards\n",
    "    and dones from environment's step function and policy's sample_action function as lists.\n",
    "\n",
    "    Args:\n",
    "        env: OpenAI gym environment.\n",
    "        policy: A policy which allows us to sample actions with its sample_action method.\n",
    "\n",
    "    Returns:\n",
    "        Tuple of lists (states, actions, rewards, dones). All lists should have same length. \n",
    "        Hint: Do not include the state after the termination in the list of states.\n",
    "    \"\"\"\n",
    "    return [(16, 10, False)], [1], [0], [True]"
   ]
  },
  {
   "cell_type": "code",
   "execution_count": 12,
   "metadata": {},
   "outputs": [
    {
     "name": "stdout",
     "output_type": "stream",
     "text": [
      "Episode 0:\n",
      "States [(14, 4, False), (20, 4, False)]\n",
      "Actions [1, 0]\n",
      "Rewards [0, -1]\n",
      "Dones [False, True]\n",
      "\n",
      "Episode 1:\n",
      "States [(20, 8, False)]\n",
      "Actions [0]\n",
      "Rewards [1]\n",
      "Dones [True]\n",
      "\n",
      "Episode 2:\n",
      "States [(20, 6, False)]\n",
      "Actions [0]\n",
      "Rewards [1]\n",
      "Dones [True]\n",
      "\n",
      "Episode 3:\n",
      "States [(18, 10, False)]\n",
      "Actions [1]\n",
      "Rewards [-1]\n",
      "Dones [True]\n",
      "\n",
      "Episode 4:\n",
      "States [(12, 10, False)]\n",
      "Actions [1]\n",
      "Rewards [-1]\n",
      "Dones [True]\n",
      "\n",
      "Episode 5:\n",
      "States [(12, 8, False), (17, 8, False)]\n",
      "Actions [1, 1]\n",
      "Rewards [0, -1]\n",
      "Dones [False, True]\n",
      "\n",
      "Episode 6:\n",
      "States [(21, 10, True)]\n",
      "Actions [0]\n",
      "Rewards [1]\n",
      "Dones [True]\n",
      "\n",
      "Episode 7:\n",
      "States [(14, 3, False)]\n",
      "Actions [1]\n",
      "Rewards [-1]\n",
      "Dones [True]\n",
      "\n",
      "Episode 8:\n",
      "States [(12, 1, False), (19, 1, False), (21, 1, False)]\n",
      "Actions [1, 1, 0]\n",
      "Rewards [0, 0, 1]\n",
      "Dones [False, False, True]\n",
      "\n",
      "Episode 9:\n",
      "States [(13, 9, False), (19, 9, False)]\n",
      "Actions [1, 1]\n",
      "Rewards [0, -1]\n",
      "Dones [False, True]\n",
      "\n",
      "Episode 10:\n",
      "States [(19, 7, True), (12, 7, False), (15, 7, False), (17, 7, False), (20, 7, False)]\n",
      "Actions [1, 1, 1, 1, 0]\n",
      "Rewards [0, 0, 0, 0, 1]\n",
      "Dones [False, False, False, False, True]\n",
      "\n",
      "Episode 11:\n",
      "States [(13, 8, False)]\n",
      "Actions [1]\n",
      "Rewards [-1]\n",
      "Dones [True]\n",
      "\n",
      "Episode 12:\n",
      "States [(17, 4, False), (19, 4, False)]\n",
      "Actions [1, 1]\n",
      "Rewards [0, -1]\n",
      "Dones [False, True]\n",
      "\n",
      "Episode 13:\n",
      "States [(13, 1, False), (14, 1, False)]\n",
      "Actions [1, 1]\n",
      "Rewards [0, -1]\n",
      "Dones [False, True]\n",
      "\n",
      "Episode 14:\n",
      "States [(14, 2, False)]\n",
      "Actions [1]\n",
      "Rewards [-1]\n",
      "Dones [True]\n",
      "\n",
      "Episode 15:\n",
      "States [(16, 6, False), (20, 6, False)]\n",
      "Actions [1, 0]\n",
      "Rewards [0, 1]\n",
      "Dones [False, True]\n",
      "\n",
      "Episode 16:\n",
      "States [(18, 3, False)]\n",
      "Actions [1]\n",
      "Rewards [-1]\n",
      "Dones [True]\n",
      "\n",
      "Episode 17:\n",
      "States [(13, 6, False), (16, 6, False)]\n",
      "Actions [1, 1]\n",
      "Rewards [0, -1]\n",
      "Dones [False, True]\n",
      "\n",
      "Episode 18:\n",
      "States [(12, 10, False)]\n",
      "Actions [1]\n",
      "Rewards [-1]\n",
      "Dones [True]\n",
      "\n",
      "Episode 19:\n",
      "States [(14, 5, False), (16, 5, False)]\n",
      "Actions [1, 1]\n",
      "Rewards [0, -1]\n",
      "Dones [False, True]\n",
      "\n"
     ]
    }
   ],
   "source": [
    "# Let's sample some episodes\n",
    "env = BlackjackEnv()\n",
    "\n",
    "policy = SimpleBlackjackPolicy()\n",
    "for episode in range(20):\n",
    "    trajectory_data = sample_episode(env, policy)\n",
    "    print(\"Episode {}:\\nStates {}\\nActions {}\\nRewards {}\\nDones {}\\n\".format(episode,*trajectory_data))"
   ]
  },
  {
   "cell_type": "markdown",
   "metadata": {
    "nbgrader": {
     "grade": false,
     "grade_id": "cell-0184f4c719afb98c",
     "locked": true,
     "schema_version": 1,
     "solution": false
    }
   },
   "source": [
    "Now implement the MC prediction algorithm (either first visit or every visit). Hint: you can use `for i in tqdm(range(num_episodes))` to show a progress bar. Use the sampling function from above to sample data from a single episode."
   ]
  },
  {
   "cell_type": "code",
   "execution_count": 13,
   "metadata": {},
   "outputs": [
    {
     "name": "stdout",
     "output_type": "stream",
     "text": [
      "Appending to mc_autograde.py\n"
     ]
    }
   ],
   "source": [
    "%%execwritefile -a mc_autograde.py\n",
    "\n",
    "def mc_prediction(env, policy, num_episodes, discount_factor=1.0, sampling_function=sample_episode):\n",
    "    \"\"\"\n",
    "    Monte Carlo prediction algorithm. Calculates the value function\n",
    "    for a given policy using sampling.\n",
    "    \n",
    "    Args:\n",
    "        env: OpenAI gym environment.\n",
    "        policy: A policy which allows us to sample actions with its sample_action method.\n",
    "        num_episodes: Number of episodes to sample.\n",
    "        discount_factor: Gamma discount factor.\n",
    "        sampling_function: Function that generates data from one episode.\n",
    "    \n",
    "    Returns:\n",
    "        A dictionary that maps from state -> value.\n",
    "        The state is a tuple and the value is a float.\n",
    "    \"\"\"\n",
    "\n",
    "    # Keeps track of current V and count of returns for each state\n",
    "    # to calculate an update.\n",
    "    V = defaultdict(float)\n",
    "    returns_count = defaultdict(float)\n",
    "    \n",
    "    for e in tqdm(range(num_episodes)):\n",
    "        states, actions, rewards, dones = sampling_function(env, policy)\n",
    "\n",
    "        G = 0\n",
    "        for i in range(len(states))[::-1]:\n",
    "            s = states[i]\n",
    "            r = rewards[i]\n",
    "            G = discount_factor * G + r\n",
    "            \n",
    "            returns_count[s] += 1\n",
    "            V[s] += (G - V[s]) / returns_count[s]\n",
    "            \n",
    "    return V"
   ]
  },
  {
   "cell_type": "code",
   "execution_count": 14,
   "metadata": {},
   "outputs": [
    {
     "name": "stderr",
     "output_type": "stream",
     "text": [
      "100%|██████████| 10000/10000 [00:00<00:00, 11677.77it/s]"
     ]
    },
    {
     "name": "stdout",
     "output_type": "stream",
     "text": [
      "defaultdict(<class 'float'>,\n",
      "            {(12, 1, False): -0.5517241379310346,\n",
      "             (12, 1, True): -0.125,\n",
      "             (12, 2, False): -0.5887850467289719,\n",
      "             (12, 2, True): -0.24999999999999997,\n",
      "             (12, 3, False): -0.4431818181818183,\n",
      "             (12, 3, True): 0.0,\n",
      "             (12, 4, False): -0.5164835164835165,\n",
      "             (12, 4, True): -0.8,\n",
      "             (12, 5, False): -0.48235294117647065,\n",
      "             (12, 5, True): -0.2,\n",
      "             (12, 6, False): -0.568181818181818,\n",
      "             (12, 6, True): -1.0,\n",
      "             (12, 7, False): -0.4712643678160919,\n",
      "             (12, 7, True): -0.3333333333333333,\n",
      "             (12, 8, False): -0.5833333333333336,\n",
      "             (12, 8, True): 1.0,\n",
      "             (12, 9, False): -0.5543478260869564,\n",
      "             (12, 9, True): 0.0,\n",
      "             (12, 10, False): -0.6000000000000002,\n",
      "             (12, 10, True): -0.7333333333333334,\n",
      "             (13, 1, False): -0.6363636363636361,\n",
      "             (13, 1, True): -0.24999999999999997,\n",
      "             (13, 2, False): -0.548780487804878,\n",
      "             (13, 2, True): -0.6,\n",
      "             (13, 3, False): -0.6138613861386137,\n",
      "             (13, 3, True): -0.6000000000000001,\n",
      "             (13, 4, False): -0.7682926829268292,\n",
      "             (13, 4, True): -2.7755575615628914e-17,\n",
      "             (13, 5, False): -0.44318181818181834,\n",
      "             (13, 5, True): -0.19999999999999998,\n",
      "             (13, 6, False): -0.5463917525773194,\n",
      "             (13, 6, True): -0.5,\n",
      "             (13, 7, False): -0.5301204819277111,\n",
      "             (13, 7, True): 0.19999999999999998,\n",
      "             (13, 8, False): -0.6761904761904762,\n",
      "             (13, 8, True): -0.08333333333333333,\n",
      "             (13, 9, False): -0.6634615384615384,\n",
      "             (13, 9, True): -0.7777777777777778,\n",
      "             (13, 10, False): -0.5968992248062016,\n",
      "             (13, 10, True): -0.19512195121951223,\n",
      "             (14, 1, False): -0.6578947368421053,\n",
      "             (14, 1, True): -0.49999999999999994,\n",
      "             (14, 2, False): -0.5368421052631575,\n",
      "             (14, 2, True): -0.16666666666666669,\n",
      "             (14, 3, False): -0.6352941176470588,\n",
      "             (14, 3, True): -0.4545454545454546,\n",
      "             (14, 4, False): -0.5959595959595958,\n",
      "             (14, 4, True): -0.7500000000000001,\n",
      "             (14, 5, False): -0.5888888888888888,\n",
      "             (14, 5, True): 0.14285714285714288,\n",
      "             (14, 6, False): -0.569767441860465,\n",
      "             (14, 6, True): 0.19999999999999998,\n",
      "             (14, 7, False): -0.595505617977528,\n",
      "             (14, 7, True): 0.27272727272727276,\n",
      "             (14, 8, False): -0.6162790697674418,\n",
      "             (14, 8, True): -0.6363636363636364,\n",
      "             (14, 9, False): -0.617391304347826,\n",
      "             (14, 9, True): -0.6363636363636364,\n",
      "             (14, 10, False): -0.5887850467289715,\n",
      "             (14, 10, True): -0.25581395348837205,\n",
      "             (15, 1, False): -0.6041666666666663,\n",
      "             (15, 1, True): -0.6666666666666666,\n",
      "             (15, 2, False): -0.6826923076923077,\n",
      "             (15, 2, True): -0.6666666666666666,\n",
      "             (15, 3, False): -0.6929824561403504,\n",
      "             (15, 3, True): -0.25,\n",
      "             (15, 4, False): -0.7282608695652174,\n",
      "             (15, 4, True): 0.14285714285714285,\n",
      "             (15, 5, False): -0.6914893617021277,\n",
      "             (15, 5, True): -0.3333333333333333,\n",
      "             (15, 6, False): -0.6019417475728153,\n",
      "             (15, 6, True): -0.5,\n",
      "             (15, 7, False): -0.5595238095238095,\n",
      "             (15, 7, True): -0.33333333333333337,\n",
      "             (15, 8, False): -0.7187499999999999,\n",
      "             (15, 8, True): 0.24999999999999997,\n",
      "             (15, 9, False): -0.6956521739130433,\n",
      "             (15, 9, True): -0.8333333333333334,\n",
      "             (15, 10, False): -0.5628140703517583,\n",
      "             (15, 10, True): -0.5675675675675673,\n",
      "             (16, 1, False): -0.6534653465346533,\n",
      "             (16, 1, True): -0.4,\n",
      "             (16, 2, False): -0.6666666666666664,\n",
      "             (16, 2, True): -0.5833333333333334,\n",
      "             (16, 3, False): -0.7350427350427352,\n",
      "             (16, 3, True): 0.0,\n",
      "             (16, 4, False): -0.7099999999999996,\n",
      "             (16, 4, True): -0.7777777777777778,\n",
      "             (16, 5, False): -0.7171717171717171,\n",
      "             (16, 5, True): -0.23529411764705882,\n",
      "             (16, 6, False): -0.7857142857142857,\n",
      "             (16, 6, True): -0.38888888888888884,\n",
      "             (16, 7, False): -0.6534653465346534,\n",
      "             (16, 7, True): -0.07692307692307693,\n",
      "             (16, 8, False): -0.7247706422018347,\n",
      "             (16, 8, True): -0.5294117647058824,\n",
      "             (16, 9, False): -0.6153846153846151,\n",
      "             (16, 9, True): -0.125,\n",
      "             (16, 10, False): -0.6788321167883216,\n",
      "             (16, 10, True): -0.4181818181818182,\n",
      "             (17, 1, False): -0.6213592233009708,\n",
      "             (17, 1, True): -0.41176470588235287,\n",
      "             (17, 2, False): -0.7058823529411764,\n",
      "             (17, 2, True): -0.5625,\n",
      "             (17, 3, False): -0.7254901960784312,\n",
      "             (17, 3, True): -0.26315789473684215,\n",
      "             (17, 4, False): -0.709090909090909,\n",
      "             (17, 4, True): -0.08333333333333336,\n",
      "             (17, 5, False): -0.6071428571428571,\n",
      "             (17, 5, True): -0.4615384615384615,\n",
      "             (17, 6, False): -0.718181818181818,\n",
      "             (17, 6, True): -0.5555555555555556,\n",
      "             (17, 7, False): -0.6551724137931032,\n",
      "             (17, 7, True): 0.0666666666666667,\n",
      "             (17, 8, False): -0.7553191489361704,\n",
      "             (17, 8, True): -0.0909090909090909,\n",
      "             (17, 9, False): -0.7843137254901961,\n",
      "             (17, 9, True): -0.5,\n",
      "             (17, 10, False): -0.6632390745501288,\n",
      "             (17, 10, True): -0.34782608695652184,\n",
      "             (18, 1, False): -0.8265306122448977,\n",
      "             (18, 1, True): -0.5625,\n",
      "             (18, 2, False): -0.7669902912621358,\n",
      "             (18, 2, True): -0.1818181818181818,\n",
      "             (18, 3, False): -0.8303571428571429,\n",
      "             (18, 3, True): -0.49999999999999994,\n",
      "             (18, 4, False): -0.714285714285714,\n",
      "             (18, 4, True): -0.75,\n",
      "             (18, 5, False): -0.6565656565656564,\n",
      "             (18, 5, True): -0.44999999999999996,\n",
      "             (18, 6, False): -0.8045112781954885,\n",
      "             (18, 6, True): -0.7916666666666667,\n",
      "             (18, 7, False): -0.5769230769230769,\n",
      "             (18, 7, True): -0.0769230769230769,\n",
      "             (18, 8, False): -0.8446601941747572,\n",
      "             (18, 8, True): -0.4545454545454545,\n",
      "             (18, 9, False): -0.6551724137931032,\n",
      "             (18, 9, True): -0.2777777777777778,\n",
      "             (18, 10, False): -0.7121848739495801,\n",
      "             (18, 10, True): -0.42372881355932207,\n",
      "             (19, 1, False): -0.8070175438596491,\n",
      "             (19, 1, True): -0.6153846153846153,\n",
      "             (19, 2, False): -0.6666666666666666,\n",
      "             (19, 2, True): -0.5,\n",
      "             (19, 3, False): -0.8130081300813008,\n",
      "             (19, 3, True): -0.30434782608695654,\n",
      "             (19, 4, False): -0.7169811320754715,\n",
      "             (19, 4, True): -0.7857142857142857,\n",
      "             (19, 5, False): -0.7962962962962962,\n",
      "             (19, 5, True): -0.42857142857142855,\n",
      "             (19, 6, False): -0.6160714285714286,\n",
      "             (19, 6, True): -0.26315789473684215,\n",
      "             (19, 7, False): -0.695238095238095,\n",
      "             (19, 7, True): -0.16666666666666663,\n",
      "             (19, 8, False): -0.7745098039215687,\n",
      "             (19, 8, True): -0.15384615384615385,\n",
      "             (19, 9, False): -0.7043478260869567,\n",
      "             (19, 9, True): -0.5714285714285714,\n",
      "             (19, 10, False): -0.7207207207207212,\n",
      "             (19, 10, True): -0.5833333333333333,\n",
      "             (20, 1, False): 0.18404907975460127,\n",
      "             (20, 1, True): 0.3571428571428571,\n",
      "             (20, 2, False): 0.577639751552795,\n",
      "             (20, 2, True): 0.625,\n",
      "             (20, 3, False): 0.6619718309859156,\n",
      "             (20, 3, True): 0.9285714285714285,\n",
      "             (20, 4, False): 0.5866666666666663,\n",
      "             (20, 4, True): 0.43478260869565216,\n",
      "             (20, 5, False): 0.655405405405405,\n",
      "             (20, 5, True): 0.5384615384615384,\n",
      "             (20, 6, False): 0.7067669172932335,\n",
      "             (20, 6, True): 0.4444444444444444,\n",
      "             (20, 7, False): 0.7972027972027971,\n",
      "             (20, 7, True): 0.894736842105263,\n",
      "             (20, 8, False): 0.8055555555555552,\n",
      "             (20, 8, True): 0.8421052631578946,\n",
      "             (20, 9, False): 0.782894736842105,\n",
      "             (20, 9, True): 0.5624999999999999,\n",
      "             (20, 10, False): 0.46822742474916373,\n",
      "             (20, 10, True): 0.4415584415584417,\n",
      "             (21, 1, False): 0.6455696202531644,\n",
      "             (21, 1, True): 0.653846153846154,\n",
      "             (21, 2, False): 0.8555555555555556,\n",
      "             (21, 2, True): 0.8421052631578945,\n",
      "             (21, 3, False): 0.8974358974358974,\n",
      "             (21, 3, True): 0.8749999999999999,\n",
      "             (21, 4, False): 0.836065573770492,\n",
      "             (21, 4, True): 0.8999999999999999,\n",
      "             (21, 5, False): 0.9733333333333334,\n",
      "             (21, 5, True): 0.838709677419355,\n",
      "             (21, 6, False): 0.9605263157894739,\n",
      "             (21, 6, True): 0.9259259259259259,\n",
      "             (21, 7, False): 0.9583333333333331,\n",
      "             (21, 7, True): 0.9666666666666666,\n",
      "             (21, 8, False): 0.9206349206349206,\n",
      "             (21, 8, True): 0.9399999999999998,\n",
      "             (21, 9, False): 0.92,\n",
      "             (21, 9, True): 0.9555555555555556,\n",
      "             (21, 10, False): 0.8765822784810119,\n",
      "             (21, 10, True): 0.9064327485380116})\n"
     ]
    },
    {
     "name": "stderr",
     "output_type": "stream",
     "text": [
      "\n"
     ]
    }
   ],
   "source": [
    "import pprint\n",
    "V_10k = mc_prediction(env, SimpleBlackjackPolicy(), num_episodes=10000)\n",
    "pprint.pprint(V_10k)"
   ]
  },
  {
   "cell_type": "markdown",
   "metadata": {
    "nbgrader": {
     "grade": false,
     "grade_id": "cell-9d32f907f180c088",
     "locked": true,
     "schema_version": 1,
     "solution": false
    }
   },
   "source": [
    "Now make *4 plots* like Figure 5.1 in the book. You can either make 3D plots or heatmaps. Make sure that your results look similar to the results in the book. Give your plots appropriate titles, axis labels, etc."
   ]
  },
  {
   "cell_type": "code",
   "execution_count": 15,
   "metadata": {
    "nbgrader": {
     "grade": false,
     "grade_id": "cell-cbaf4d6a0e4c00fa",
     "locked": true,
     "schema_version": 1,
     "solution": false
    }
   },
   "outputs": [
    {
     "name": "stdout",
     "output_type": "stream",
     "text": [
      "CPU times: user 6 µs, sys: 0 ns, total: 6 µs\n",
      "Wall time: 11.4 µs\n"
     ]
    }
   ],
   "source": [
    "%%time\n",
    "# Let's run your code one time\n",
    "# V_10k  = mc_prediction(env, SimpleBlackjackPolicy(), num_episodes=10000)\n",
    "# V_500k = mc_prediction(env, SimpleBlackjackPolicy(), num_episodes=500000)"
   ]
  },
  {
   "cell_type": "code",
   "execution_count": 16,
   "metadata": {},
   "outputs": [],
   "source": [
    "from mpl_toolkits.mplot3d import Axes3D  # noqa: F401 unused import\n",
    "\n",
    "import matplotlib.pyplot as plt\n",
    "from matplotlib import cm\n",
    "from matplotlib.ticker import LinearLocator, FormatStrFormatter\n",
    "\n"
   ]
  },
  {
   "cell_type": "code",
   "execution_count": 17,
   "metadata": {
    "nbgrader": {
     "grade": true,
     "grade_id": "cell-ba046443478aa517",
     "locked": false,
     "points": 2,
     "schema_version": 1,
     "solution": true
    }
   },
   "outputs": [
    {
     "name": "stdout",
     "output_type": "stream",
     "text": [
      "[(14, 7, 0.27272727272727276),\n",
      " (19, 10, -0.5833333333333333),\n",
      " (21, 10, 0.9064327485380116),\n",
      " (16, 4, -0.7777777777777778),\n",
      " (17, 7, 0.0666666666666667),\n",
      " (15, 7, -0.33333333333333337),\n",
      " (20, 10, 0.4415584415584417),\n",
      " (21, 5, 0.838709677419355),\n",
      " (20, 7, 0.894736842105263),\n",
      " (20, 6, 0.4444444444444444),\n",
      " (16, 6, -0.38888888888888884),\n",
      " (21, 4, 0.8999999999999999),\n",
      " (15, 10, -0.5675675675675673),\n",
      " (16, 5, -0.23529411764705882),\n",
      " (18, 10, -0.42372881355932207),\n",
      " (21, 9, 0.9555555555555556),\n",
      " (15, 9, -0.8333333333333334),\n",
      " (14, 10, -0.25581395348837205),\n",
      " (13, 10, -0.19512195121951223),\n",
      " (18, 2, -0.1818181818181818),\n",
      " (21, 6, 0.9259259259259259),\n",
      " (14, 1, -0.49999999999999994),\n",
      " (21, 2, 0.8421052631578945),\n",
      " (16, 10, -0.4181818181818182),\n",
      " (12, 10, -0.7333333333333334),\n",
      " (12, 7, -0.3333333333333333),\n",
      " (20, 8, 0.8421052631578946),\n",
      " (19, 8, -0.15384615384615385),\n",
      " (17, 8, -0.0909090909090909),\n",
      " (21, 1, 0.653846153846154),\n",
      " (18, 5, -0.44999999999999996),\n",
      " (15, 5, -0.3333333333333333),\n",
      " (19, 1, -0.6153846153846153),\n",
      " (21, 3, 0.8749999999999999),\n",
      " (19, 3, -0.30434782608695654),\n",
      " (17, 3, -0.26315789473684215),\n",
      " (15, 3, -0.25),\n",
      " (14, 3, -0.4545454545454546),\n",
      " (13, 9, -0.7777777777777778),\n",
      " (19, 2, -0.5),\n",
      " (12, 2, -0.24999999999999997),\n",
      " (19, 7, -0.16666666666666663),\n",
      " (13, 7, 0.19999999999999998),\n",
      " (20, 9, 0.5624999999999999),\n",
      " (20, 2, 0.625),\n",
      " (15, 1, -0.6666666666666666),\n",
      " (14, 8, -0.6363636363636364),\n",
      " (19, 9, -0.5714285714285714),\n",
      " (18, 9, -0.2777777777777778),\n",
      " (18, 7, -0.0769230769230769),\n",
      " (15, 2, -0.6666666666666666),\n",
      " (19, 6, -0.26315789473684215),\n",
      " (16, 8, -0.5294117647058824),\n",
      " (19, 5, -0.42857142857142855),\n",
      " (15, 8, 0.24999999999999997),\n",
      " (20, 3, 0.9285714285714285),\n",
      " (18, 3, -0.49999999999999994),\n",
      " (16, 1, -0.4),\n",
      " (14, 4, -0.7500000000000001),\n",
      " (16, 9, -0.125),\n",
      " (16, 2, -0.5833333333333334),\n",
      " (17, 10, -0.34782608695652184),\n",
      " (18, 6, -0.7916666666666667),\n",
      " (17, 6, -0.5555555555555556),\n",
      " (17, 9, -0.5),\n",
      " (21, 7, 0.9666666666666666),\n",
      " (17, 5, -0.4615384615384615),\n",
      " (20, 1, 0.3571428571428571),\n",
      " (18, 1, -0.5625),\n",
      " (16, 7, -0.07692307692307693),\n",
      " (17, 1, -0.41176470588235287),\n",
      " (20, 4, 0.43478260869565216),\n",
      " (19, 4, -0.7857142857142857),\n",
      " (13, 6, -0.5),\n",
      " (13, 8, -0.08333333333333333),\n",
      " (21, 8, 0.9399999999999998),\n",
      " (13, 5, -0.19999999999999998),\n",
      " (12, 3, 0.0),\n",
      " (14, 6, 0.19999999999999998),\n",
      " (17, 2, -0.5625),\n",
      " (16, 3, 0.0),\n",
      " (13, 3, -0.6000000000000001),\n",
      " (12, 1, -0.125),\n",
      " (18, 4, -0.75),\n",
      " (13, 2, -0.6),\n",
      " (20, 5, 0.5384615384615384),\n",
      " (13, 1, -0.24999999999999997),\n",
      " (13, 4, -2.7755575615628914e-17),\n",
      " (14, 9, -0.6363636363636364),\n",
      " (12, 9, 0.0),\n",
      " (18, 8, -0.4545454545454545),\n",
      " (14, 5, 0.14285714285714288),\n",
      " (14, 2, -0.16666666666666669),\n",
      " (12, 4, -0.8),\n",
      " (17, 4, -0.08333333333333336),\n",
      " (15, 6, -0.5),\n",
      " (15, 4, 0.14285714285714285),\n",
      " (12, 5, -0.2),\n",
      " (12, 6, -1.0),\n",
      " (12, 8, 1.0)]\n",
      "[[ 1.40000000e+01  1.90000000e+01  2.10000000e+01  1.60000000e+01\n",
      "   1.70000000e+01  1.50000000e+01  2.00000000e+01  2.10000000e+01\n",
      "   2.00000000e+01  2.00000000e+01  1.60000000e+01  2.10000000e+01\n",
      "   1.50000000e+01  1.60000000e+01  1.80000000e+01  2.10000000e+01\n",
      "   1.50000000e+01  1.40000000e+01  1.30000000e+01  1.80000000e+01\n",
      "   2.10000000e+01  1.40000000e+01  2.10000000e+01  1.60000000e+01\n",
      "   1.20000000e+01  1.20000000e+01  2.00000000e+01  1.90000000e+01\n",
      "   1.70000000e+01  2.10000000e+01  1.80000000e+01  1.50000000e+01\n",
      "   1.90000000e+01  2.10000000e+01  1.90000000e+01  1.70000000e+01\n",
      "   1.50000000e+01  1.40000000e+01  1.30000000e+01  1.90000000e+01\n",
      "   1.20000000e+01  1.90000000e+01  1.30000000e+01  2.00000000e+01\n",
      "   2.00000000e+01  1.50000000e+01  1.40000000e+01  1.90000000e+01\n",
      "   1.80000000e+01  1.80000000e+01  1.50000000e+01  1.90000000e+01\n",
      "   1.60000000e+01  1.90000000e+01  1.50000000e+01  2.00000000e+01\n",
      "   1.80000000e+01  1.60000000e+01  1.40000000e+01  1.60000000e+01\n",
      "   1.60000000e+01  1.70000000e+01  1.80000000e+01  1.70000000e+01\n",
      "   1.70000000e+01  2.10000000e+01  1.70000000e+01  2.00000000e+01\n",
      "   1.80000000e+01  1.60000000e+01  1.70000000e+01  2.00000000e+01\n",
      "   1.90000000e+01  1.30000000e+01  1.30000000e+01  2.10000000e+01\n",
      "   1.30000000e+01  1.20000000e+01  1.40000000e+01  1.70000000e+01\n",
      "   1.60000000e+01  1.30000000e+01  1.20000000e+01  1.80000000e+01\n",
      "   1.30000000e+01  2.00000000e+01  1.30000000e+01  1.30000000e+01\n",
      "   1.40000000e+01  1.20000000e+01  1.80000000e+01  1.40000000e+01\n",
      "   1.40000000e+01  1.20000000e+01  1.70000000e+01  1.50000000e+01\n",
      "   1.50000000e+01  1.20000000e+01  1.20000000e+01  1.20000000e+01]\n",
      " [ 7.00000000e+00  1.00000000e+01  1.00000000e+01  4.00000000e+00\n",
      "   7.00000000e+00  7.00000000e+00  1.00000000e+01  5.00000000e+00\n",
      "   7.00000000e+00  6.00000000e+00  6.00000000e+00  4.00000000e+00\n",
      "   1.00000000e+01  5.00000000e+00  1.00000000e+01  9.00000000e+00\n",
      "   9.00000000e+00  1.00000000e+01  1.00000000e+01  2.00000000e+00\n",
      "   6.00000000e+00  1.00000000e+00  2.00000000e+00  1.00000000e+01\n",
      "   1.00000000e+01  7.00000000e+00  8.00000000e+00  8.00000000e+00\n",
      "   8.00000000e+00  1.00000000e+00  5.00000000e+00  5.00000000e+00\n",
      "   1.00000000e+00  3.00000000e+00  3.00000000e+00  3.00000000e+00\n",
      "   3.00000000e+00  3.00000000e+00  9.00000000e+00  2.00000000e+00\n",
      "   2.00000000e+00  7.00000000e+00  7.00000000e+00  9.00000000e+00\n",
      "   2.00000000e+00  1.00000000e+00  8.00000000e+00  9.00000000e+00\n",
      "   9.00000000e+00  7.00000000e+00  2.00000000e+00  6.00000000e+00\n",
      "   8.00000000e+00  5.00000000e+00  8.00000000e+00  3.00000000e+00\n",
      "   3.00000000e+00  1.00000000e+00  4.00000000e+00  9.00000000e+00\n",
      "   2.00000000e+00  1.00000000e+01  6.00000000e+00  6.00000000e+00\n",
      "   9.00000000e+00  7.00000000e+00  5.00000000e+00  1.00000000e+00\n",
      "   1.00000000e+00  7.00000000e+00  1.00000000e+00  4.00000000e+00\n",
      "   4.00000000e+00  6.00000000e+00  8.00000000e+00  8.00000000e+00\n",
      "   5.00000000e+00  3.00000000e+00  6.00000000e+00  2.00000000e+00\n",
      "   3.00000000e+00  3.00000000e+00  1.00000000e+00  4.00000000e+00\n",
      "   2.00000000e+00  5.00000000e+00  1.00000000e+00  4.00000000e+00\n",
      "   9.00000000e+00  9.00000000e+00  8.00000000e+00  5.00000000e+00\n",
      "   2.00000000e+00  4.00000000e+00  4.00000000e+00  6.00000000e+00\n",
      "   4.00000000e+00  5.00000000e+00  6.00000000e+00  8.00000000e+00]\n",
      " [ 2.72727273e-01 -5.83333333e-01  9.06432749e-01 -7.77777778e-01\n",
      "   6.66666667e-02 -3.33333333e-01  4.41558442e-01  8.38709677e-01\n",
      "   8.94736842e-01  4.44444444e-01 -3.88888889e-01  9.00000000e-01\n",
      "  -5.67567568e-01 -2.35294118e-01 -4.23728814e-01  9.55555556e-01\n",
      "  -8.33333333e-01 -2.55813953e-01 -1.95121951e-01 -1.81818182e-01\n",
      "   9.25925926e-01 -5.00000000e-01  8.42105263e-01 -4.18181818e-01\n",
      "  -7.33333333e-01 -3.33333333e-01  8.42105263e-01 -1.53846154e-01\n",
      "  -9.09090909e-02  6.53846154e-01 -4.50000000e-01 -3.33333333e-01\n",
      "  -6.15384615e-01  8.75000000e-01 -3.04347826e-01 -2.63157895e-01\n",
      "  -2.50000000e-01 -4.54545455e-01 -7.77777778e-01 -5.00000000e-01\n",
      "  -2.50000000e-01 -1.66666667e-01  2.00000000e-01  5.62500000e-01\n",
      "   6.25000000e-01 -6.66666667e-01 -6.36363636e-01 -5.71428571e-01\n",
      "  -2.77777778e-01 -7.69230769e-02 -6.66666667e-01 -2.63157895e-01\n",
      "  -5.29411765e-01 -4.28571429e-01  2.50000000e-01  9.28571429e-01\n",
      "  -5.00000000e-01 -4.00000000e-01 -7.50000000e-01 -1.25000000e-01\n",
      "  -5.83333333e-01 -3.47826087e-01 -7.91666667e-01 -5.55555556e-01\n",
      "  -5.00000000e-01  9.66666667e-01 -4.61538462e-01  3.57142857e-01\n",
      "  -5.62500000e-01 -7.69230769e-02 -4.11764706e-01  4.34782609e-01\n",
      "  -7.85714286e-01 -5.00000000e-01 -8.33333333e-02  9.40000000e-01\n",
      "  -2.00000000e-01  0.00000000e+00  2.00000000e-01 -5.62500000e-01\n",
      "   0.00000000e+00 -6.00000000e-01 -1.25000000e-01 -7.50000000e-01\n",
      "  -6.00000000e-01  5.38461538e-01 -2.50000000e-01 -2.77555756e-17\n",
      "  -6.36363636e-01  0.00000000e+00 -4.54545455e-01  1.42857143e-01\n",
      "  -1.66666667e-01 -8.00000000e-01 -8.33333333e-02 -5.00000000e-01\n",
      "   1.42857143e-01 -2.00000000e-01 -1.00000000e+00  1.00000000e+00]]\n"
     ]
    }
   ],
   "source": [
    "V_aces = [(y, x, v) for (y, x, A), v in V_10k.items() if A]\n",
    "V_nota = [(y, x, v) for (y, x, A), v in V_10k.items() if not A]\n",
    "\n",
    "\n",
    "pprint.pprint(V_aces)\n",
    "\n",
    "print(np.array(list(zip(*V_aces))))\n",
    "\n",
    "X = np.arange(12, 21)\n",
    "Y = np.arange(2, 11)\n",
    "X, Y = np.meshgrid(X, Y)\n"
   ]
  },
  {
   "cell_type": "markdown",
   "metadata": {},
   "source": [
    "## 2. Off-policy Monte Carlo prediction\n",
    "In real world, it is often beneficial to learn from the experience of others in addition to your own. For example, you can probably infer that running off the cliff with a car is a bad idea if you consider what \"return\" people who have tried it received.\n",
    "\n",
    "Similarly, we can benefit from the experience of other agents in reinforcement learning. In this exercise we will use off-policy monte carlo to estimate the value function of our target policy using the experience from a different behavior policy. Our target policy will be the simple policy defined above (stick if we have *20* or *21* points) and we will use a random policy that randomly chooses to stick or hit (both with 50% probability) as a behavior policy. As a first step, implement a random BlackJack policy."
   ]
  },
  {
   "cell_type": "code",
   "execution_count": 18,
   "metadata": {},
   "outputs": [
    {
     "name": "stdout",
     "output_type": "stream",
     "text": [
      "Appending to mc_autograde.py\n"
     ]
    }
   ],
   "source": [
    "%%execwritefile -a mc_autograde.py\n",
    "\n",
    "class RandomBlackjackPolicy(object):\n",
    "    \"\"\"\n",
    "    A random BlackJack policy.\n",
    "    \"\"\"\n",
    "    def get_probs(self, states, actions):\n",
    "        \"\"\"\n",
    "        This method takes a list of states and a list of actions and returns a numpy array that contains \n",
    "        a probability of perfoming action in given state for every corresponding state action pair. \n",
    "\n",
    "        Args:\n",
    "            states: a list of states.\n",
    "            actions: a list of actions.\n",
    "\n",
    "        Returns:\n",
    "            Numpy array filled with probabilities (same length as states and actions)\n",
    "        \"\"\"\n",
    "        \n",
    "        return np.array([0.5] * len(states))\n",
    "    \n",
    "    def sample_action(self, state):\n",
    "        \"\"\"\n",
    "        This method takes a state as input and returns an action sampled from this policy.  \n",
    "\n",
    "        Args:\n",
    "            state: current state\n",
    "\n",
    "        Returns:\n",
    "            An action (int).\n",
    "        \"\"\"\n",
    "        \n",
    "        probs = self.get_probs([state, state], [0, 1])\n",
    "        \n",
    "        actions = np.random.choice(2, 1, p=probs)\n",
    "        \n",
    "        return actions[0]\n",
    "            \n",
    "        "
   ]
  },
  {
   "cell_type": "code",
   "execution_count": 19,
   "metadata": {},
   "outputs": [
    {
     "name": "stdout",
     "output_type": "stream",
     "text": [
      "State: (13, 4, False)\n",
      "Sampled Action: 0\n",
      "Probabilities [stick, hit]: [0.5 0.5]\n"
     ]
    }
   ],
   "source": [
    "# Let's check if it makes sense\n",
    "env = BlackjackEnv()\n",
    "s = env.reset()\n",
    "policy = RandomBlackjackPolicy()\n",
    "print(\"State: {}\\nSampled Action: {}\\nProbabilities [stick, hit]: {}\".format(s, policy.sample_action(s), policy.get_probs([s,s],[0,1])))"
   ]
  },
  {
   "cell_type": "markdown",
   "metadata": {},
   "source": [
    "Now implement the MC prediction algorithm with ordinary importance sampling. Use the sampling function from above to sample data from a single episode.\n",
    "\n",
    "Hint: Get probs functions may be handy. You can use `for i in tqdm(range(num_episodes))` to show a progress bar."
   ]
  },
  {
   "cell_type": "code",
   "execution_count": 20,
   "metadata": {},
   "outputs": [
    {
     "name": "stdout",
     "output_type": "stream",
     "text": [
      "Appending to mc_autograde.py\n"
     ]
    }
   ],
   "source": [
    "%%execwritefile -a mc_autograde.py\n",
    "\n",
    "def mc_importance_sampling(env, behavior_policy, target_policy, num_episodes, discount_factor=1.0,\n",
    "                           sampling_function=sample_episode):\n",
    "    \"\"\"\n",
    "    Monte Carlo prediction algorithm. Calculates the value function\n",
    "    for a given target policy using behavior policy and ordinary importance sampling.\n",
    "    \n",
    "    Args:\n",
    "        env: OpenAI gym environment.\n",
    "        behavior_policy: A policy used to collect the data.\n",
    "        target_policy: A policy which value function we want to estimate.\n",
    "        num_episodes: Number of episodes to sample.\n",
    "        discount_factor: Gamma discount factor.\n",
    "        sampling_function: Function that generates data from one episode.\n",
    "    \n",
    "    Returns:\n",
    "        A dictionary that maps from state -> value.\n",
    "        The state is a tuple and the value is a float.\n",
    "    \"\"\"\n",
    "\n",
    "    # Keeps track of current V and count of returns for each state\n",
    "    # to calculate an update.\n",
    "    V = defaultdict(float)\n",
    "    returns_count = defaultdict(float)\n",
    "    \n",
    "    for e in tqdm(range(num_episodes)):\n",
    "        states, actions, rewards, dones = sampling_function(env, behavior_policy)\n",
    "        \n",
    "        G = 0\n",
    "        W = 1\n",
    "        for i in range(len(states))[::-1]:\n",
    "            s = states[i]\n",
    "            r = rewards[i]\n",
    "            a = actions[i]\n",
    "            \n",
    "            G = discount_factor * G + r\n",
    "            \n",
    "            returns_count[s] += 1\n",
    "            W *= target_policy.get_probs([s, s], [0, 1])[a] / behavior_policy.get_probs([s, s], [0, 1])[a]\n",
    "            V[s] += 1 / returns_count[s] * (W * G - V[s])\n",
    "                        \n",
    "            \n",
    "    return V"
   ]
  },
  {
   "cell_type": "code",
   "execution_count": 21,
   "metadata": {},
   "outputs": [
    {
     "name": "stderr",
     "output_type": "stream",
     "text": [
      "100%|██████████| 1/1 [00:00<00:00, 1215.04it/s]"
     ]
    },
    {
     "name": "stdout",
     "output_type": "stream",
     "text": [
      "defaultdict(<class 'float'>, {(16, 10, False): 0.0})\n"
     ]
    },
    {
     "name": "stderr",
     "output_type": "stream",
     "text": [
      "\n"
     ]
    }
   ],
   "source": [
    "Vi_10k = mc_importance_sampling(env, RandomBlackjackPolicy(), SimpleBlackjackPolicy(), num_episodes=1, sampling_function=custom_sample)\n",
    "pprint.pprint(Vi_10k)"
   ]
  },
  {
   "cell_type": "code",
   "execution_count": 22,
   "metadata": {},
   "outputs": [
    {
     "name": "stdout",
     "output_type": "stream",
     "text": [
      "CPU times: user 4 µs, sys: 1 µs, total: 5 µs\n",
      "Wall time: 8.34 µs\n"
     ]
    }
   ],
   "source": [
    "%%time\n",
    "# Let's run your code one time\n",
    "# V_10k = mc_importance_sampling(env, RandomBlackjackPolicy(), SimpleBlackjackPolicy(), num_episodes=10000)\n",
    "# V_500k = mc_importance_sampling(env, RandomBlackjackPolicy(), SimpleBlackjackPolicy(), num_episodes=500000)"
   ]
  },
  {
   "cell_type": "markdown",
   "metadata": {},
   "source": [
    "Plot the V function. Do the plots look like what you expected?"
   ]
  },
  {
   "cell_type": "code",
   "execution_count": 23,
   "metadata": {},
   "outputs": [
    {
     "data": {
      "text/plain": [
       "True"
      ]
     },
     "execution_count": 23,
     "metadata": {},
     "output_type": "execute_result"
    }
   ],
   "source": [
    "np.random.seed(100)\n",
    "\n",
    "# np.random.choice(2, 1, [0.5, 0.5])\n",
    "np.random.uniform() > 0.5"
   ]
  },
  {
   "cell_type": "markdown",
   "metadata": {},
   "source": [
    "If you want to test/submit your solution **restart the kernel, run all cells and submit the mc_autograde.py file into codegrade.**"
   ]
  },
  {
   "cell_type": "code",
   "execution_count": null,
   "metadata": {},
   "outputs": [],
   "source": []
  }
 ],
 "metadata": {
  "celltoolbar": "Create Assignment",
  "kernelspec": {
   "display_name": "Python 3",
   "language": "python",
   "name": "python3"
  },
  "language_info": {
   "codemirror_mode": {
    "name": "ipython",
    "version": 3
   },
   "file_extension": ".py",
   "mimetype": "text/x-python",
   "name": "python",
   "nbconvert_exporter": "python",
   "pygments_lexer": "ipython3",
   "version": "3.7.3"
  }
 },
 "nbformat": 4,
 "nbformat_minor": 2
}
